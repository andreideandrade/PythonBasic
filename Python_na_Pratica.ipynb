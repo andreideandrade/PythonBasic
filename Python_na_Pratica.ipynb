{
  "nbformat": 4,
  "nbformat_minor": 0,
  "metadata": {
    "colab": {
      "name": "Python_na_Pratica.ipynb",
      "provenance": [],
      "toc_visible": true,
      "authorship_tag": "ABX9TyOIsqHtq4EQCc0YV3CweV2y"
    },
    "kernelspec": {
      "name": "python3",
      "display_name": "Python 3"
    },
    "language_info": {
      "name": "python"
    }
  },
  "cells": [
    {
      "cell_type": "markdown",
      "metadata": {
        "id": "AKf80qleui29"
      },
      "source": [
        "# Python na Prática"
      ]
    },
    {
      "cell_type": "markdown",
      "metadata": {
        "id": "ttfokaiIux_B",
        "jp-MarkdownHeadingCollapsed": true,
        "tags": []
      },
      "source": [
        "# Introdução"
      ]
    },
    {
      "cell_type": "markdown",
      "metadata": {
        "id": "_XJQBHuQu_Ps"
      },
      "source": [
        "   Se tratando de programação, independentemente da linguagem, um dos maiores erros dos estudantes ou entusiastas da área é o fato de os mesmos apenas se limitarem a replicar os exemplos dos conceitos da linguagem, não praticando de fato, seja explorando outras possibilidades de mesmo propósito, seja não resolvendo exercícios que estimulem a aplicação da lógica e implementação das de ferramentas que a linguagem de programação oferece para resolução de problemas computacionais.\n",
        "\n",
        "   Sendo assim, o intuito deste pequeno deste pequeno livro é trazer a tona desde os conceitos mais básicos da linguagem Python até tópicos específicos e avançados por meio de exercícios, de modo que cada conceito será revisado conforme a necessidade de sua aplicação, assim como para programadores que já possuem uma bagagem de conhecimento, grátis exemplos servirão para os mesmo realizar Engenharia reversa nos conceitos entendendo os porquês de cada estrutura de código.\n",
        "\n",
        "   Esse notebook foi escrito de forma gradual no que diz respeito à sua dificuldade, todo e qualquer exercício terá suas devidas explicações para cada linha de código, porém de forma gradual à medida que avançaremos pelos exercícios em sua ordem, não avançado quando encontrada alguma dificuldade, assim quando se sentir confiável, tente outros métodos de resolução dos mesmos exercícios.\n",
        "\n",
        "   Dessa forma, garanto que você aprenderá de vez por todas como aplicar seus conhecimentos em problemas computacionais Reais."
      ]
    },
    {
      "cell_type": "markdown",
      "metadata": {
        "id": "mT6AaogT3ry6"
      },
      "source": [
        "# Exercícios"
      ]
    },
    {
      "cell_type": "markdown",
      "metadata": {
        "id": "gSelWMf331kz",
        "jp-MarkdownHeadingCollapsed": true,
        "tags": []
      },
      "source": [
        "## 1 - Crie três variáveis com três tipos de dados do diferentes, respeitando sua sintaxe:"
      ]
    },
    {
      "cell_type": "code",
      "execution_count": null,
      "metadata": {
        "id": "XEmN4uduuK8c"
      },
      "outputs": [],
      "source": [
        "nome = 'Fulano de Tal me disse'\n",
        "ano = 1985\n",
        "valor = 49.90"
      ]
    },
    {
      "cell_type": "markdown",
      "metadata": {
        "id": "ClewXH3J5JnS"
      },
      "source": [
        "   Para declarar uma variável basta dar um nome para a mesma, seguido do operador do operador de atribuição \" = \" e do conteúdo a ser atribuído para essa variável.\n",
        "   A forma como o atributo da variável é escrita fará com que o interpretador identifique automaticamente o tipo de dado em questão. Nesse caso, para a variável nome temos uma string, da mesma forma para variável ano temos um int assim como para variável valor temos um dado atribuído do tipo float."
      ]
    },
    {
      "cell_type": "markdown",
      "metadata": {
        "id": "9LACAshq9Ux9",
        "jp-MarkdownHeadingCollapsed": true,
        "tags": []
      },
      "source": [
        "\n",
        "## 2 - Crie um comentário de no máximo uma linha:"
      ]
    },
    {
      "cell_type": "code",
      "execution_count": null,
      "metadata": {
        "id": "6IjfNGQZ9lKW"
      },
      "outputs": [],
      "source": [
        "# Exemplo de comentário simples, de até uma linha."
      ]
    },
    {
      "cell_type": "markdown",
      "metadata": {
        "id": "P9xg6bgn9zXh"
      },
      "source": [
        "   Comentários curtos em Python devem iniciar com o símbolo \" # \", dessa forma o conteúdo desta linha de código será simplesmente ignorado pelo interpretador."
      ]
    },
    {
      "cell_type": "markdown",
      "metadata": {
        "id": "7kVXTlciY1FX",
        "jp-MarkdownHeadingCollapsed": true,
        "tags": []
      },
      "source": [
        "## 3 - Criar um comentário de mais de uma linha:"
      ]
    },
    {
      "cell_type": "code",
      "execution_count": null,
      "metadata": {
        "id": "YNmVadmfZUOM"
      },
      "outputs": [],
      "source": [
        "\"\"\"   Apenas explorando a possibilidade de criar um\n",
        "   Comentário composto de mais de uma linha,\n",
        "que\n",
        "   permite uma explicação mais elaborada sobre\n",
        "o\n",
        "\n",
        "   código em questão. \"\"\""
      ]
    },
    {
      "cell_type": "markdown",
      "metadata": {
        "id": "Ppxqht4WZTUj"
      },
      "source": [
        "   Todo comentário maior que uma linha em Python deve ter seu conteúdo entre aspas triplas simples ''' ''' ou aspas triplas duplas \"\"\" \"\"\", de acordo com a preferência do desenvolvedor."
      ]
    },
    {
      "cell_type": "markdown",
      "metadata": {
        "id": "CTrOYZybbneQ",
        "jp-MarkdownHeadingCollapsed": true,
        "tags": []
      },
      "source": [
        "## 4 - Escreva um programa que mostra em tela a mensagem: Olá Mundo,!!!"
      ]
    },
    {
      "cell_type": "code",
      "execution_count": null,
      "metadata": {
        "id": "NVklcoQvb7FD"
      },
      "outputs": [],
      "source": [
        "print('Olá Mundo!!!')"
      ]
    },
    {
      "cell_type": "markdown",
      "metadata": {
        "id": "dmI6mghlcGJ_"
      },
      "source": [
        "   Usando da função print() por sua vez parametrizada com a string 'Olá Mundo', ao executar o código será exibido em tela / em terminal a mensagem Olá Mundo!!!\n",
        "\n",
        "O retorno será:\n",
        "Olá Mundo!!!"
      ]
    },
    {
      "cell_type": "markdown",
      "metadata": {
        "id": "WPYDQHH3dPEb",
        "jp-MarkdownHeadingCollapsed": true,
        "tags": []
      },
      "source": [
        "## 5 - Crie uma variável nome e atribua para a mesma um nome digitado pelo usuário:"
      ]
    },
    {
      "cell_type": "code",
      "execution_count": null,
      "metadata": {
        "id": "erHIiJpMdwTL"
      },
      "outputs": [],
      "source": [
        "nome = input('Por favor, digite o seu nome: ')"
      ]
    },
    {
      "cell_type": "markdown",
      "metadata": {
        "id": "Uzzax9UbeOX9"
      },
      "source": [
        "   De acordo com o enunciado do exercício, inicialmente declaramos uma variável de nome nome, que por meio da função input() pede que o usuário digite algo, nesse caso, seu próprio nome por exemplo.\n",
        "\n",
        "   Ao terminar de digitar o nome e pressionar a tecla ENTER, o conteúdo digitado estará atribuído para a variável nome.\n",
        "  Neste caso aqui está variável terá a tipagem de acordo com o conteúdo que o usuário adicionar, exemplo se número inteiro a tipagem será int, se caractere a tipagem será string. A linguagem Python muda o tipo automaticamente de acordo com a necessidade do usuário."
      ]
    },
    {
      "cell_type": "markdown",
      "metadata": {
        "id": "ZaSf2xIuMzuX",
        "jp-MarkdownHeadingCollapsed": true,
        "tags": []
      },
      "source": [
        "## 6 - Exiba em tela o valor do tipo de dado da variável num1: Sendo num1 = 1987."
      ]
    },
    {
      "cell_type": "code",
      "execution_count": null,
      "metadata": {
        "id": "G3tJcJEINQs9"
      },
      "outputs": [],
      "source": [
        "num1 = 1987\n",
        "print(num1)\n",
        "print(type(num1))"
      ]
    },
    {
      "cell_type": "markdown",
      "metadata": {
        "id": "d-9XcPbNNj0B"
      },
      "source": [
        "   Inicialmente é declarada uma variável de nome num1, que por sua vez tem atribuída o número int 1987. Parametrizando a função print() com a variável num1, obteremos como retorno o valor da mesma.\n",
        "   a quando parametrizamos nossa funcao print() com a funcao type() por sua vez parametrizada com a variável num1, o retorno esperado á que seja exibido em tela o tipo de dado associado a essa variável.\n",
        "\n",
        "O retorno será?\n",
        "1987\n",
        "int"
      ]
    },
    {
      "cell_type": "markdown",
      "metadata": {
        "id": "3gQZl_bx9O3q",
        "jp-MarkdownHeadingCollapsed": true,
        "tags": []
      },
      "source": [
        "## 7 - Peca para que o usuario digite um numero, em seguida exiba em tela o numero digitado."
      ]
    },
    {
      "cell_type": "code",
      "execution_count": null,
      "metadata": {
        "id": "dJr-ZZh-Ouhs"
      },
      "outputs": [],
      "source": [
        "n = input('Digite um número: ')\n",
        "print(f'O numero digitado foi -> {n}')"
      ]
    },
    {
      "cell_type": "markdown",
      "metadata": {
        "id": "RcwyLL_rPUg4"
      },
      "source": [
        "   Declarada a variável 'n' por sua vez parametrizada com a função input() que interage como o usuário pedindo que o mesmo digite um número, podemos exibir esse número em tela via função print().\n",
        "\n",
        "   Usando de f'strings e máscaras de substituição podemos criar um retorno um pouco mais elaborado, incorporando na string o conteúdo da variável n.\n",
        "\n",
        "   Supondo que o usuário tenha digitado 106, o retorno será:\n",
        "\n",
        "   O retorno digitado é: 106"
      ]
    },
    {
      "cell_type": "markdown",
      "metadata": {
        "id": "twQ8JskWat0L",
        "jp-MarkdownHeadingCollapsed": true,
        "tags": []
      },
      "source": [
        "## 8 - Peça para que o usuário digite um número, em seguida o converta para float, exibindo em tela tanto o número em si quanto seu tipo de dado."
      ]
    },
    {
      "cell_type": "code",
      "execution_count": null,
      "metadata": {
        "id": "xq0JxEedbfBb"
      },
      "outputs": [],
      "source": [
        "num = input('Digite um número: ')\n",
        "num = float(num)\n",
        "\n",
        "print(num)\n",
        "print(type(num))"
      ]
    },
    {
      "cell_type": "markdown",
      "metadata": {
        "id": "acisT7Lny-tA"
      },
      "source": [
        "   Uma vez criada nossa variável num, com seu conteúdo vindo da interação com o usuário, podemos atualizar o conteúdo dessa. Variável num recebe como atributo o método float() parametrizado com ela mesma.\n",
        "\n",
        "   Dessa forma, o conteúdo atribuído a variável num é convertido de formato e salvo sobrescrevendo o conteúdo antigo dessa variável. Por meio da função print() podemos exibir em tela tanto o tipo quanto o conteúdo. Da variável num.\n",
        "\n",
        "Supondo que o usuário tenha digitado 52, o retorno será:\n",
        "52\n",
        "float"
      ]
    },
    {
      "cell_type": "markdown",
      "metadata": {
        "id": "_amFC_yM4Q_H",
        "jp-MarkdownHeadingCollapsed": true,
        "tags": []
      },
      "source": [
        "## 9 - Crie uma lista com cinco nomes de pessoas:"
      ]
    },
    {
      "cell_type": "code",
      "execution_count": null,
      "metadata": {
        "id": "g9OlPDXA4cN3"
      },
      "outputs": [],
      "source": [
        "listaNomes = ['Maria','João','José','Melanias','Austaquio']\n",
        "print(listaNomes)"
      ]
    },
    {
      "cell_type": "markdown",
      "metadata": {
        "id": "8gxmC80I5bh2"
      },
      "source": [
        "   Uma lista em Python, tipo de dado muito similar a um array em outras linguagens de programação, é uma estrutura de dados que serve para guardar mais de um dado associado a uma variável, sem distinção da quantia nem do tipo de estrutura de dado em questão, a única ressalva é que para que tal tipo de estrutura de dado seja reconhecida corretamente pelo interpretador do Python, a mesma deve obedecer a sintaxe, toda e qualquer lista tem seus dados dentro de \"[]\" colchetes."
      ]
    },
    {
      "cell_type": "markdown",
      "metadata": {
        "id": "exF09Q9p9uyd",
        "jp-MarkdownHeadingCollapsed": true,
        "tags": []
      },
      "source": [
        "## 10 - Mostre o tamanho da lista nomes / o número de elementos da lista nomes:\n",
        "## Mostre separadamente apenas o terceiro elemento dessa lista:"
      ]
    },
    {
      "cell_type": "code",
      "execution_count": null,
      "metadata": {
        "id": "2oNPP3-f9fSA"
      },
      "outputs": [],
      "source": [
        "print(len(listaNomes))\n",
        "print(listaNomes [3])"
      ]
    },
    {
      "cell_type": "markdown",
      "metadata": {
        "id": "KWJBVbEYFC-2"
      },
      "source": [
        "   Em nossa função print() usando do método Len() por sua vez parametrizado com a variável nomes, o retorno esperado é o número de elementos que compõe essa lista."
      ]
    },
    {
      "cell_type": "markdown",
      "metadata": {
        "id": "qxILY73SFxH4",
        "jp-MarkdownHeadingCollapsed": true,
        "tags": []
      },
      "source": [
        "## 11 - Some os valores das variáveis n1 e n2, sendo n1 = 52 e n2 = 106. Por fim exiba em tela o resultado da soma."
      ]
    },
    {
      "cell_type": "code",
      "execution_count": null,
      "metadata": {
        "id": "yDlY3q6mGYTu"
      },
      "outputs": [],
      "source": [
        "n1 = 52\n",
        "n2 = 106\n",
        "\n",
        "print(n1 + n2)"
      ]
    },
    {
      "cell_type": "markdown",
      "metadata": {
        "id": "vOuxqDTzGo6s",
        "jp-MarkdownHeadingCollapsed": true,
        "tags": []
      },
      "source": [
        "## 12 - Some os valores das variáveis n1 e n2, atribuindo o resultado da soma a uma nova variável homônima. Exiba em tela o conteúdo dessa variável."
      ]
    },
    {
      "cell_type": "code",
      "execution_count": null,
      "metadata": {
        "id": "JsUY-mkdHWtM"
      },
      "outputs": [],
      "source": [
        "soma = n1 + n2\n",
        "print(soma)"
      ]
    },
    {
      "cell_type": "markdown",
      "metadata": {
        "id": "eizGhkU9HyyY",
        "jp-MarkdownHeadingCollapsed": true,
        "tags": []
      },
      "source": [
        "## 13 - Subtraia os valores de n1 e n2:"
      ]
    },
    {
      "cell_type": "code",
      "execution_count": null,
      "metadata": {
        "id": "vhm1dPksH-NT"
      },
      "outputs": [],
      "source": [
        "print(n1 - n2)"
      ]
    },
    {
      "cell_type": "markdown",
      "metadata": {
        "id": "uonhQDwzIPiK",
        "jp-MarkdownHeadingCollapsed": true,
        "tags": []
      },
      "source": [
        "## 14 - Realize as operações de multiplicação e de divisão entre os valores das variáveis n1 e n2:"
      ]
    },
    {
      "cell_type": "code",
      "execution_count": null,
      "metadata": {
        "id": "4YXHEdKeIpLp"
      },
      "outputs": [],
      "source": [
        "print(n1 * n2)\n",
        "\n",
        "print(n1 / n2)"
      ]
    },
    {
      "cell_type": "markdown",
      "metadata": {
        "id": "YR1uAcNMMjVg",
        "jp-MarkdownHeadingCollapsed": true,
        "tags": []
      },
      "source": [
        "## 15 - Eleve o valor de num1 a oitava potência, sendo num1 = 51:"
      ]
    },
    {
      "cell_type": "code",
      "execution_count": null,
      "metadata": {
        "id": "5QrCRPGMM2C1"
      },
      "outputs": [],
      "source": [
        "num1 = 51\n",
        "print(num1 ** 8)"
      ]
    },
    {
      "cell_type": "markdown",
      "metadata": {
        "jp-MarkdownHeadingCollapsed": true,
        "tags": [],
        "id": "gHN9nI2bbeL_"
      },
      "source": [
        "## 16 - Escreva um programa que pede que o usuario dê entrada em dois valores, em seguida, exiba em tela o resultado da soma, subitração e divisão desses números:"
      ]
    },
    {
      "cell_type": "code",
      "execution_count": null,
      "metadata": {
        "id": "1D1Zq4sBbeMA"
      },
      "outputs": [],
      "source": [
        "num1 = int(input('Digite o primeiro numero: '))\n",
        "num2 = int(input('Digite o segundo número: '))\n",
        "\n",
        "print(f'\\n{num1} + {num2} = {num1 + num2}')\n",
        "print(f'{num1} - {num2} = {num1 - num2}')\n",
        "print(f'{num1} x {num2} = {num1 * num2}')\n",
        "print(f'{num1} / {num2} = {num1 / num2}')"
      ]
    },
    {
      "cell_type": "markdown",
      "metadata": {
        "jp-MarkdownHeadingCollapsed": true,
        "tags": [],
        "id": "aysRnecmbeMB"
      },
      "source": [
        "## 17 - Dadas duas variaveis num1 e num2 com valores 100 e 89, repectivamente, verifique se o valor de num1 é maior que o de num 2:"
      ]
    },
    {
      "cell_type": "code",
      "execution_count": null,
      "metadata": {
        "id": "nU5v62j_beMB"
      },
      "outputs": [],
      "source": [
        "num1 = 100\n",
        "mum2 = 89\n",
        "\n",
        "print(num1 > num2)"
      ]
    },
    {
      "cell_type": "markdown",
      "metadata": {
        "jp-MarkdownHeadingCollapsed": true,
        "tags": [],
        "id": "Tn_A8xs7beMC"
      },
      "source": [
        "## 18 - Verifique se os valores de num1 e de num2 são iguais:"
      ]
    },
    {
      "cell_type": "code",
      "execution_count": null,
      "metadata": {
        "id": "IclOUXYQbeMD"
      },
      "outputs": [],
      "source": [
        "print(num1 == num2)"
      ]
    },
    {
      "cell_type": "markdown",
      "metadata": {
        "jp-MarkdownHeadingCollapsed": true,
        "tags": [],
        "id": "SGu-KSHybeME"
      },
      "source": [
        "## 19 -  Verifique se os valores de num1 e de num2 são diferentes:"
      ]
    },
    {
      "cell_type": "code",
      "execution_count": null,
      "metadata": {
        "id": "A40kovYKbeMF"
      },
      "outputs": [],
      "source": [
        "print(num1 != num2)"
      ]
    },
    {
      "cell_type": "markdown",
      "metadata": {
        "jp-MarkdownHeadingCollapsed": true,
        "tags": [],
        "id": "_7qGkgmXbeMG"
      },
      "source": [
        "## 20 - Verifique se o valor de num1 é igual ou menor que 100:"
      ]
    },
    {
      "cell_type": "code",
      "execution_count": null,
      "metadata": {
        "id": "Qc1pCYixbeMG"
      },
      "outputs": [],
      "source": [
        "print(num1 <= 100)"
      ]
    },
    {
      "cell_type": "markdown",
      "metadata": {
        "jp-MarkdownHeadingCollapsed": true,
        "tags": [],
        "id": "_32UZa6NbeMK"
      },
      "source": [
        "## 21 - Verifique se os valores de num1 e de num2 são iguais ou menores que 100:"
      ]
    },
    {
      "cell_type": "code",
      "execution_count": null,
      "metadata": {
        "id": "Ee4ZNKWmbeML"
      },
      "outputs": [],
      "source": [
        "print(num1 <= 100 and num2 <= 100)"
      ]
    },
    {
      "cell_type": "markdown",
      "metadata": {
        "jp-MarkdownHeadingCollapsed": true,
        "tags": [],
        "id": "LYppIBxbbeML"
      },
      "source": [
        "## 22 - Verifique se os valores de num1 ou de num2 são iguais ou maiores que 100:"
      ]
    },
    {
      "cell_type": "code",
      "execution_count": null,
      "metadata": {
        "id": "cDGBskPSbeMM"
      },
      "outputs": [],
      "source": [
        "print(num1 >= 100 or num2 >= 100)"
      ]
    },
    {
      "cell_type": "markdown",
      "metadata": {
        "jp-MarkdownHeadingCollapsed": true,
        "tags": [],
        "id": "8SkjLzCDbeMM"
      },
      "source": [
        "## 23 - Verifique se o valor de num1 consta nos elementos de lista1. Sendo num1 = 100 e lista1 = [10, 100, 1000, 10000, 100000]:"
      ]
    },
    {
      "cell_type": "code",
      "execution_count": null,
      "metadata": {
        "id": "MbUNfKs5beMN"
      },
      "outputs": [],
      "source": [
        "lista = [10,100,1000,10000,100000]\n",
        "\n",
        "print(num1 in lista)"
      ]
    },
    {
      "cell_type": "markdown",
      "metadata": {
        "jp-MarkdownHeadingCollapsed": true,
        "tags": [],
        "id": "vm8RuPvWbeMN"
      },
      "source": [
        "## 24 - Crie duas variaveis com dois valores numéricos inteiros pelo usuario, caso o valor do primeiro número for maior que o do segundo, exiba em tela uma mensagem dizendo que o primeiro calor digitado é menor que o segundo: "
      ]
    },
    {
      "cell_type": "code",
      "execution_count": null,
      "metadata": {
        "id": "E3X_f7TVbeMO"
      },
      "outputs": [],
      "source": [
        "n1 = int(input('Digite o primeiro número: '))\n",
        "n2 = int(input('Digite o segundo número: '))\n",
        "           \n",
        "if n1 > n2:\n",
        "           print('O primeiro numero digitado é o maior.')\n",
        "else:\n",
        "           print('O segundo número digitado é o maior.')\n",
        "           "
      ]
    },
    {
      "cell_type": "markdown",
      "metadata": {
        "jp-MarkdownHeadingCollapsed": true,
        "tags": [],
        "id": "STdxW8jUbeMO"
      },
      "source": [
        "## 25 - Peça para que o usuário digite um número, em seguida exiba em tela uma mensagem dizendo se tal número é PAR ou se é ímpar:"
      ]
    },
    {
      "cell_type": "code",
      "execution_count": null,
      "metadata": {
        "id": "Nn9E7tnRbeMP"
      },
      "outputs": [],
      "source": [
        "n = int(input('Digite um número: '))\n",
        "if( n % 2) == 0:\n",
        "              print(f'{n} é PAR')\n",
        "else:\n",
        "              print(f'{n} é ÍMPAR')"
      ]
    },
    {
      "cell_type": "markdown",
      "metadata": {
        "jp-MarkdownHeadingCollapsed": true,
        "tags": [],
        "id": "1ij7CugDbeMP"
      },
      "source": [
        "## 26 - Crie uma variável com valor inicial 0, enquanto o valor dessa variável for igual ou menor que 10, exiba em tela o próprio valor da variável. A cada execução a mesma deve ter seu valor atualizado, incrementado, em 1 unidade."
      ]
    },
    {
      "cell_type": "code",
      "execution_count": null,
      "metadata": {
        "id": "7SXvLKUCbeMQ"
      },
      "outputs": [],
      "source": [
        "var = 0\n",
        "while var < 11 :\n",
        "    print(var)\n",
        "    var = var + 1"
      ]
    },
    {
      "cell_type": "markdown",
      "metadata": {
        "jp-MarkdownHeadingCollapsed": true,
        "tags": [],
        "id": "Z3GP3ycvbeMQ"
      },
      "source": [
        "## 27 - Crie uma estrutura de repetição que percorre a string 'Nicola Tesla', exibindo em tela letra por letra desse nome:"
      ]
    },
    {
      "cell_type": "code",
      "execution_count": null,
      "metadata": {
        "id": "e3P6KZ4VbeMR"
      },
      "outputs": [],
      "source": [
        "for i in 'Nikola Tesla':\n",
        "    print(i)\n",
        "    "
      ]
    },
    {
      "cell_type": "markdown",
      "metadata": {
        "jp-MarkdownHeadingCollapsed": true,
        "tags": [],
        "id": "7IKvyB7obeMR"
      },
      "source": [
        "## 28 - Crie uma lista com 8 elementos de uma lista de compras de supermercado, por meio de um laço de repetição 'for' liste undividualmente cada um dos itens dessa lista."
      ]
    },
    {
      "cell_type": "code",
      "execution_count": null,
      "metadata": {
        "id": "gj4eNDdWbeMS"
      },
      "outputs": [],
      "source": [
        "list10 = ['Água','Açucar','Arroz','Pão','Leite','Massa','Carne','Refrigenranete']\n",
        "for i in list10:\n",
        "    print(i)"
      ]
    },
    {
      "cell_type": "markdown",
      "metadata": {
        "jp-MarkdownHeadingCollapsed": true,
        "tags": [],
        "id": "4iaNER1GbeMT"
      },
      "source": [
        "## 29 - Crie um programa qu lê um valor de início e um valor de fim, exibindoem tela a contagem dos números dentro desse intervalo."
      ]
    },
    {
      "cell_type": "code",
      "execution_count": null,
      "metadata": {
        "id": "b1adypSgbeMT"
      },
      "outputs": [],
      "source": [
        "inicio = int(input('Digite o número onde começa a contagem: '))\n",
        "fim = int(input('Digite o número onde termina a contagem: '))\n",
        "\n",
        "for i in range(inicio, fim+1):\n",
        "    print(i)\n",
        "    "
      ]
    },
    {
      "cell_type": "markdown",
      "metadata": {
        "jp-MarkdownHeadingCollapsed": true,
        "tags": [],
        "id": "m04rFYnSbeMU"
      },
      "source": [
        "## 30 - Crie um progrma que realiza a contagem de 0 a 20, exibindo apenas os números pares:"
      ]
    },
    {
      "cell_type": "code",
      "execution_count": null,
      "metadata": {
        "id": "Jc4S7OZIbeMU"
      },
      "outputs": [],
      "source": [
        "for i in range(0,21):\n",
        "    if i % 2 == 0:\n",
        "        print(i)"
      ]
    },
    {
      "cell_type": "markdown",
      "metadata": {
        "id": "OESGIdPBbeMW"
      },
      "source": [
        "Uma forma alternativa que temos para resolver ese exercicio é usando do terceiro parâmetro em justaposição do método range() que justamente define de quantos em quantos elementos devem ser retornados na função."
      ]
    },
    {
      "cell_type": "code",
      "execution_count": null,
      "metadata": {
        "id": "AFRN14iJbeMX"
      },
      "outputs": [],
      "source": [
        "for i in range(0,21,2): print(i)"
      ]
    },
    {
      "cell_type": "markdown",
      "metadata": {
        "jp-MarkdownHeadingCollapsed": true,
        "tags": [],
        "id": "Yzf3tekAbeMX"
      },
      "source": [
        "## 31 - Crie um programa que realiza a PA - progressão aritimética de 20 elementos, com primeiro termo e razão definidos pelo usuário:"
      ]
    },
    {
      "cell_type": "code",
      "execution_count": null,
      "metadata": {
        "id": "RaRLcFIYbeMX"
      },
      "outputs": [],
      "source": [
        "termo = int(input('Digite o primeiro termo: '))\n",
        "razao = int(input('Digite a razao '))\n",
        "\n",
        "pa = termo +(20 - 1) * razao\n",
        "\n",
        "for i in range(termo, pa + razao, razao):\n",
        "    print(i)"
      ]
    },
    {
      "cell_type": "markdown",
      "metadata": {
        "jp-MarkdownHeadingCollapsed": true,
        "tags": [],
        "id": "l2otQN64beMY"
      },
      "source": [
        "## 32 - Crie um programa que exibe em tela a tabuada de um determinado número fornecido pelo usuário:"
      ]
    },
    {
      "cell_type": "code",
      "execution_count": null,
      "metadata": {
        "id": "6VxlhvvjbeMZ"
      },
      "outputs": [],
      "source": [
        "x = int(input('Digite um numero: '))\n",
        "\n",
        "for num in range(1,11):\n",
        "    print(f'{x} x {num} = {x * num}')\n",
        "    "
      ]
    },
    {
      "cell_type": "markdown",
      "metadata": {
        "tags": [],
        "id": "kb5b2QhAbeMZ"
      },
      "source": [
        "## 33 - Crie um programa que realiza a contagem regressiva de 20 segundos:"
      ]
    },
    {
      "cell_type": "code",
      "execution_count": null,
      "metadata": {
        "id": "qG-XKCvbbeMa"
      },
      "outputs": [],
      "source": [
        "from time import sleep\n",
        "\n",
        "print('Contagem Iniciada!!!')\n",
        "for i in range(20,-1,-1):\n",
        "    print(i)\n",
        "    sleep(1)\n",
        "print('Contagem Terminada!!!')"
      ]
    },
    {
      "cell_type": "markdown",
      "metadata": {
        "id": "Wy3jzMwobeMa"
      },
      "source": [
        "## 34 - Crie um prigrama que realiza a contagem de 1 a 100, usando apenas de números ímpares, ao final do progresso exiba em tela quantos númeors ímpares foram encontrados nesse intervalo, assim como a soma dos mesmos:"
      ]
    },
    {
      "cell_type": "code",
      "execution_count": null,
      "metadata": {
        "id": "sgGXq45GbeMb"
      },
      "outputs": [],
      "source": [
        "contador = 0\n",
        "soma = 0 \n",
        "\n",
        "for i in range(1,100):\n",
        "    if i % 3 == 0 :\n",
        "        soma += i \n",
        "        contador += 1\n",
        "\n",
        "print(f'Foram encontrados {contador} números ímpares.')\n",
        "print(f'A soma destes números é: {soma} !!!')"
      ]
    },
    {
      "cell_type": "markdown",
      "source": [
        "## 35 - Crie um programa que pede ao usuário que o mesmo digite um número qualquer, em seguida retorne se esse número é primo ou não, caso não, retorne também quantas vezes esse número é divisível:"
      ],
      "metadata": {
        "id": "ebs_Qea3oScH"
      }
    },
    {
      "cell_type": "code",
      "source": [
        ""
      ],
      "metadata": {
        "id": "6ulO1Gx9oMf3"
      },
      "execution_count": null,
      "outputs": []
    }
  ]
}