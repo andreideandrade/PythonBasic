{
  "nbformat": 4,
  "nbformat_minor": 0,
  "metadata": {
    "colab": {
      "name": "Python_na_Pratica.ipynb",
      "provenance": [],
      "authorship_tag": "ABX9TyOKV/jxk69gVZbaYCpEbFig"
    },
    "kernelspec": {
      "name": "python3",
      "display_name": "Python 3"
    },
    "language_info": {
      "name": "python"
    }
  },
  "cells": [
    {
      "cell_type": "markdown",
      "source": [
        "# Python na Prática"
      ],
      "metadata": {
        "id": "AKf80qleui29"
      }
    },
    {
      "cell_type": "markdown",
      "source": [
        "# Introdução"
      ],
      "metadata": {
        "id": "ttfokaiIux_B"
      }
    },
    {
      "cell_type": "markdown",
      "source": [
        "   Se tratando de programação, independentemente da linguagem, um dos maiores erros dos estudantes ou entusiastas da área é o fato de os mesmos apenas se limitarem a replicar os exemplos dos conceitos da linguagem, não praticando de fato, seja explorando outras possibilidades de mesmo propósito, seja não resolvendo exercícios que estimulem a aplicação da lógica e implementação das de ferramentas que a linguagem de programação oferece para resolução de problemas computacionais.\n",
        "\n",
        "   Sendo assim, o intuito deste pequeno deste pequeno livro é trazer a tona desde os conceitos mais básicos da linguagem Python até tópicos específicos e avançados por meio de exercícios, de modo que cada conceito será revisado conforme a necessidade de sua aplicação, assim como para programadores que já possuem uma bagagem de conhecimento, grátis exemplos servirão para os mesmo realizar Engenharia reversa nos conceitos entendendo os porquês de cada estrutura de código.\n",
        "\n",
        "   Esse notebook foi escrito de forma gradual no que diz respeito à sua dificuldade, todo e qualquer exercício terá suas devidas explicações para cada linha de código, porém de forma gradual à medida que avançaremos pelos exercícios em sua ordem, não avançado quando encontrada alguma dificuldade, assim quando se sentir confiável, tente outros métodos de resolução dos mesmos exercícios.\n",
        "\n",
        "   Dessa forma, garanto que você aprenderá de vez por todas como aplicar seus conhecimentos em problemas computacionais Reais."
      ],
      "metadata": {
        "id": "_XJQBHuQu_Ps"
      }
    },
    {
      "cell_type": "markdown",
      "source": [
        "# Exercícios"
      ],
      "metadata": {
        "id": "mT6AaogT3ry6"
      }
    },
    {
      "cell_type": "markdown",
      "source": [
        "## 1 - Crie três variáveis com três tipos de dados do diferentes, respeitando sua sintaxe:"
      ],
      "metadata": {
        "id": "gSelWMf331kz"
      }
    },
    {
      "cell_type": "code",
      "execution_count": null,
      "metadata": {
        "id": "XEmN4uduuK8c"
      },
      "outputs": [],
      "source": [
        "nome = 'Andrei de Andrade'\n",
        "ano = 1983\n",
        "valor = 49.90"
      ]
    },
    {
      "cell_type": "markdown",
      "source": [
        "   Para declarar uma variável basta dar um nome para a mesma, seguido do operador do operador de atribuição \" = \" e do conteúdo a ser atribuído para essa variável.\n",
        "   A forma como o atributo da variável é escrita fará com que o interpretador identifique automaticamente o tipo de dado em questão. Nesse caso, para a variável nome temos uma string, da mesma forma para variável ano temos um int assim como para variável valor temos um dado atribuído do tipo float."
      ],
      "metadata": {
        "id": "ClewXH3J5JnS"
      }
    },
    {
      "cell_type": "markdown",
      "source": [
        "\n",
        "## 2 - Crie um comentário de no máximo uma linha:"
      ],
      "metadata": {
        "id": "9LACAshq9Ux9"
      }
    },
    {
      "cell_type": "code",
      "source": [
        "# Exemplo de comentário simples, de até uma linha."
      ],
      "metadata": {
        "id": "6IjfNGQZ9lKW"
      },
      "execution_count": null,
      "outputs": []
    },
    {
      "cell_type": "markdown",
      "source": [
        "   Comentários curtos em Python devem iniciar com o símbolo \" # \", dessa forma o conteúdo desta linha de código será simplesmente ignorado pelo interpretador."
      ],
      "metadata": {
        "id": "P9xg6bgn9zXh"
      }
    },
    {
      "cell_type": "markdown",
      "source": [
        "## 3 - Criar um comentário de mais de uma linha:"
      ],
      "metadata": {
        "id": "7kVXTlciY1FX"
      }
    },
    {
      "cell_type": "code",
      "source": [
        "\"\"\"   Apenas explorando a possibilidade de criar um\n",
        "   Comentário composto de mais de uma linha,\n",
        "que\n",
        "   permite uma explicação mais elaborada sobre\n",
        "o\n",
        "\n",
        "   código em questão. \"\"\""
      ],
      "metadata": {
        "colab": {
          "base_uri": "https://localhost:8080/",
          "height": 105
        },
        "id": "YNmVadmfZUOM",
        "outputId": "4bc531b9-490e-4de8-ff04-9512882ac4dd"
      },
      "execution_count": null,
      "outputs": [
        {
          "output_type": "execute_result",
          "data": {
            "application/vnd.google.colaboratory.intrinsic+json": {
              "type": "string"
            },
            "text/plain": [
              "'   Apenas explorando a possibilidade de criar um\\n   Comentário composto de mais de uma linha,\\nque\\n   permite uma explicação mais elaborada sobre\\no\\n\\n   código em questão. '"
            ]
          },
          "metadata": {},
          "execution_count": 4
        }
      ]
    },
    {
      "cell_type": "markdown",
      "source": [
        "   Todo comentário maior que uma linha em Python deve ter seu conteúdo entre aspas triplas simples ''' ''' ou aspas triplas duplas \"\"\" \"\"\", de acordo com a preferência do desenvolvedor."
      ],
      "metadata": {
        "id": "Ppxqht4WZTUj"
      }
    },
    {
      "cell_type": "markdown",
      "source": [
        "## 4 - Escreva um programa que mostra em tela a mensagem: Olá Mundo,!!!"
      ],
      "metadata": {
        "id": "CTrOYZybbneQ"
      }
    },
    {
      "cell_type": "code",
      "source": [
        "print('Olá Mundo!!!')"
      ],
      "metadata": {
        "id": "NVklcoQvb7FD"
      },
      "execution_count": null,
      "outputs": []
    },
    {
      "cell_type": "markdown",
      "source": [
        "   Usando da função print() por sua vez parametrizada com a string 'Olá Mundo', ao executar o código será exibido em tela / em terminal a mensagem Olá Mundo!!!\n",
        "\n",
        "O retorno será:\n",
        "Olá Mundo!!!"
      ],
      "metadata": {
        "id": "dmI6mghlcGJ_"
      }
    },
    {
      "cell_type": "markdown",
      "source": [
        "## 5 - Crie uma variável nome e atribua para a mesma um nome digitado pelo usuário:"
      ],
      "metadata": {
        "id": "WPYDQHH3dPEb"
      }
    },
    {
      "cell_type": "code",
      "source": [
        "nome = input('Por favor, digite o seu nome: ')"
      ],
      "metadata": {
        "colab": {
          "base_uri": "https://localhost:8080/"
        },
        "id": "erHIiJpMdwTL",
        "outputId": "17d2913a-4ee0-4676-a822-0a61d2db3c3f"
      },
      "execution_count": null,
      "outputs": [
        {
          "name": "stdout",
          "output_type": "stream",
          "text": [
            "Por favor, digite o seu nome: 0\n"
          ]
        }
      ]
    },
    {
      "cell_type": "markdown",
      "source": [
        "   De acordo com o enunciado do exercício, inicialmente declaramos uma variável de nome nome, que por meio da função input() pede que o usuário digite algo, nesse caso, seu próprio nome por exemplo.\n",
        "\n",
        "   Ao terminar de digitar o nome e pressionar a tecla ENTER, o conteúdo digitado estará atribuído para a variável nome.\n",
        "  Neste caso aqui está variável terá a tipagem de acordo com o conteúdo que o usuário adicionar, exemplo se número inteiro a tipagem será int, se caractere a tipagem será string. A linguagem Python muda o tipo automaticamente de acordo com a necessidade do usuário."
      ],
      "metadata": {
        "id": "Uzzax9UbeOX9"
      }
    },
    {
      "cell_type": "markdown",
      "source": [
        "## 6 - Exiba em tela o valor do tipo de dado da variável num1: Sendo num1 = 1987."
      ],
      "metadata": {
        "id": "ZaSf2xIuMzuX"
      }
    },
    {
      "cell_type": "code",
      "source": [
        "num1 = 1987\n",
        "print(num1)\n",
        "print(type(num1))"
      ],
      "metadata": {
        "colab": {
          "base_uri": "https://localhost:8080/"
        },
        "id": "G3tJcJEINQs9",
        "outputId": "479ac316-8dff-43ba-8ebb-c307eb9f3440"
      },
      "execution_count": null,
      "outputs": [
        {
          "output_type": "stream",
          "name": "stdout",
          "text": [
            "1987\n",
            "<class 'int'>\n"
          ]
        }
      ]
    },
    {
      "cell_type": "markdown",
      "source": [
        "   Inicialmente é declarada uma variável de nome num1, que por sua vez tem atribuída o número int 1987. Parametrizando a função print() com a variável num1, obteremos como retorno o valor da mesma.\n",
        "   a quando parametrizamos nossa funcao print() com a funcao type() por sua vez parametrizada com a variável num1, o retorno esperado á que seja exibido em tela o tipo de dado associado a essa variável.\n",
        "\n",
        "O retorno será?\n",
        "1987\n",
        "int"
      ],
      "metadata": {
        "id": "d-9XcPbNNj0B"
      }
    },
    {
      "cell_type": "markdown",
      "source": [
        "## 7 - Peca para que o usuario digite um numero, em seguida exiba em tela o numero digitado."
      ],
      "metadata": {
        "id": "3gQZl_bx9O3q"
      }
    },
    {
      "cell_type": "code",
      "source": [
        "n = input('Digite um número: ')\n",
        "print('O numero digitado foi ->', n)"
      ],
      "metadata": {
        "colab": {
          "base_uri": "https://localhost:8080/"
        },
        "id": "dJr-ZZh-Ouhs",
        "outputId": "4b980ddf-bf29-4caf-a81e-6d6448ece9d8"
      },
      "execution_count": 3,
      "outputs": [
        {
          "output_type": "stream",
          "name": "stdout",
          "text": [
            "Digite um número: 35.0\n",
            "O numero digitado foi -> 35.0\n"
          ]
        }
      ]
    },
    {
      "cell_type": "markdown",
      "source": [
        "   test"
      ],
      "metadata": {
        "id": "RcwyLL_rPUg4"
      }
    }
  ]
}