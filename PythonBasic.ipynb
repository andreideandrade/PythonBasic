{
  "nbformat": 4,
  "nbformat_minor": 0,
  "metadata": {
    "colab": {
      "name": "PythonBasic.ipynb",
      "provenance": [],
      "collapsed_sections": [],
      "toc_visible": true,
      "authorship_tag": "ABX9TyNdmNVUCJ93zuL7zQutHPMl",
      "include_colab_link": true
    },
    "kernelspec": {
      "name": "python3",
      "display_name": "Python 3"
    },
    "language_info": {
      "name": "python"
    }
  },
  "cells": [
    {
      "cell_type": "markdown",
      "metadata": {
        "id": "view-in-github",
        "colab_type": "text"
      },
      "source": [
        "<a href=\"https://colab.research.google.com/github/andreideandrade/PythonBasic/blob/master/PythonBasic.ipynb\" target=\"_parent\"><img src=\"https://colab.research.google.com/assets/colab-badge.svg\" alt=\"Open In Colab\"/></a>"
      ]
    },
    {
      "cell_type": "markdown",
      "metadata": {
        "id": "-m34hPMqpBai"
      },
      "source": [
        "# Incio dos estudos na linguagem Python\n",
        "# Capitulo 1 - Markdown\n",
        "\n"
      ]
    },
    {
      "cell_type": "markdown",
      "metadata": {
        "id": "IanDcbReuYNQ"
      },
      "source": [
        ">Estes estudos começaram do básico e de acordo com meu projeto vai até um sistema de RNA complexo.\n",
        "  \n",
        "***Segmentos***\n",
        "\n",
        "* Introdução ao Markdown\n",
        "* Introdução a linguagem Python\n",
        "* Conceitos de repetição\n",
        "* Conceitos de vetores e matrizes"
      ]
    },
    {
      "cell_type": "markdown",
      "metadata": {
        "id": "9IP7c1e0uhcN"
      },
      "source": [
        "## Indtrodução ao Markdown"
      ]
    },
    {
      "cell_type": "markdown",
      "metadata": {
        "id": "YJVck0Rsuomo"
      },
      "source": [
        "---\n",
        "\n",
        "## Referências\n",
        "\n",
        "Código Markdown                                        | Visão\n",
        "                                                   --- | ---\n",
        "`**Texto em negrito**`                                 | **Texto em negrito**\n",
        "`*Texto em itálico*` ou `_Texto em itálico_`           | *Texto em itálico*\n",
        "`` `Monospace` ``                                      | `Monospace`\n",
        "`~~Texto tachado~~`                                    | ~~Texto tachado~~\n",
        "`[Um link de internet](https://www.google.com)`        | [Um link de internet](https://www.google.com)\n",
        "`![Uma imagem](https://www.google.com/images/rss.png)` | ![Uma imagem](https://www.google.com/images/rss.png)\n",
        "\n",
        "---"
      ]
    },
    {
      "cell_type": "markdown",
      "metadata": {
        "id": "l0GqOxRCxsDW"
      },
      "source": [
        "\n",
        "## Titulos\n",
        "  A prioridade de cada titulo é referida por #.\n",
        "\n",
        "```markdown\n",
        "# Titulo 1\n",
        "## Titulo 2\n",
        "### Titulo 3\n",
        "#### Titulo 4\n",
        "##### Titulo 5\n",
        "###### Titulo 6\n",
        "\n",
        "```\n",
        "\n",
        "# Titulo 1\n",
        "## Titulo 2\n",
        "### Titulo 3\n",
        "#### Titulo 4\n",
        "##### Titulo 5\n",
        "###### Titulo 6\n",
        "\n",
        "\n",
        "\n",
        "The table of contents, available on the left side of Colab, is populated using at most one section title from each text cell.\n",
        "\n",
        "---\n",
        "\n",
        "## Identação\n",
        "\n",
        "```markdown\n",
        ">Primeira identação\n",
        "```\n",
        "\n",
        ">Primeira identação\n",
        "\n",
        "\n",
        "```markdown\n",
        ">>Segunda identação\n",
        "```\n",
        "\n",
        ">>Segunda identação\n",
        "\n",
        "---\n",
        "\n",
        "Bloco de códigos\n",
        "\n",
        "````\n",
        "```python\n",
        "print(\"Olá mundo!\")\n",
        "```\n",
        "````\n",
        "\n",
        "```python\n",
        "print(\"Olá mundo!\")\n",
        "```\n",
        "\n",
        "---\n",
        "\n",
        "Listas ordendas:\n",
        "```markdown\n",
        "1. Um\n",
        "1. Dois\n",
        "1. Três\n",
        "```\n",
        "1. Um\n",
        "1. Dois\n",
        "1. Três\n",
        "\n",
        "---\n",
        "\n",
        "Listas desordenadas ou de marcação:\n",
        "```markdown\n",
        "* Um\n",
        "* Dois\n",
        "* Três\n",
        "```\n",
        "* Um\n",
        "* Dois\n",
        "* Três\n",
        "\n",
        "---\n",
        "\n",
        "Equações:\n",
        "\n",
        "```markdown\n",
        "$y=x^2$\n",
        "\n",
        "$e^{i\\pi} + 1 = 0$\n",
        "\n",
        "$e^x=\\sum_{i=0}^\\infty \\frac{1}{i!}x^i$\n",
        "\n",
        "$\\frac{n!}{k!(n-k)!} = {n \\choose k}$\n",
        "\n",
        "$A_{m,n} =\n",
        " \\begin{pmatrix}\n",
        "  a_{1,1} & a_{1,2} & \\cdots & a_{1,n} \\\\\n",
        "  a_{2,1} & a_{2,2} & \\cdots & a_{2,n} \\\\\n",
        "  \\vdots  & \\vdots  & \\ddots & \\vdots  \\\\\n",
        "  a_{m,1} & a_{m,2} & \\cdots & a_{m,n}\n",
        " \\end{pmatrix}$\n",
        "```\n",
        "\n",
        "$y=x^2$\n",
        "\n",
        "$e^{i\\pi} + 1 = 0$\n",
        "\n",
        "$e^x=\\sum_{i=0}^\\infty \\frac{1}{i!}x^i$\n",
        "\n",
        "$\\frac{n!}{k!(n-k)!} = {n \\choose k}$\n",
        "\n",
        "$A_{m,n} =\n",
        " \\begin{pmatrix}\n",
        "  a_{1,1} & a_{1,2} & \\cdots & a_{1,n} \\\\\n",
        "  a_{2,1} & a_{2,2} & \\cdots & a_{2,n} \\\\\n",
        "  \\vdots  & \\vdots  & \\ddots & \\vdots  \\\\\n",
        "  a_{m,1} & a_{m,2} & \\cdots & a_{m,n}\n",
        " \\end{pmatrix}$\n",
        "\n",
        "\n",
        " ---\n",
        "\n",
        "Tabelas:\n",
        "```markdown\n",
        "Coluna 1  | Coluna 2 \n",
        "-------------------|------------------\n",
        "Limha 1, Coluna 1       | Linha 1, Coluna 2 \n",
        "Linha 2, Coluna 1       | Linha 2, Coluna 2 \n",
        "\n",
        "```\n",
        "\n",
        " Titulo da coluna 1  | Titulo da coluna 2 \n",
        " ---|---\n",
        "Linha 1, Coluna 1       | Linha 1, Coluna 2 \n",
        "Linha 2, Coluna 1       | Linha 2, Coluna 2 \n",
        "\n",
        "---\n",
        "\n",
        "Linha horizontal:\n",
        "```markdown\n",
        "---\n",
        "```\n",
        "\n",
        "---\n",
        "\n",
        "\n"
      ]
    },
    {
      "cell_type": "markdown",
      "metadata": {
        "id": "irIQ60h8OQAo"
      },
      "source": [
        "# Capitulo 2 - Formulários para interação com o usuário"
      ]
    },
    {
      "cell_type": "markdown",
      "metadata": {
        "id": "N3eF8qtVPIBC"
      },
      "source": [
        ""
      ]
    },
    {
      "cell_type": "code",
      "metadata": {
        "id": "op7895mbQDvf"
      },
      "source": [
        "#@title Exemplo de formulário\n",
        "#@markdown Forms support many types of fields.\n",
        "\n",
        "no_type_checking = ''  #@param\n",
        "string_type = 'example'  #@param {type: \"string\"}\n",
        "slider_value = 170  #@param {type: \"slider\", min: 100, max: 200}\n",
        "number = 102  #@param {type: \"number\"}\n",
        "date = '2021-08-08'  #@param {type: \"date\"}\n",
        "pick_me = \"Terca\"  #@param ['Segunda', 'Terca', 'Quarta', 'Quinta', 'Sexta', 'Sabado', 'Domingo']\n",
        "select_or_input = \"Laranja\" #@param [\"Pera\", \"Banana\", \"Laranja\"] {allow-input: true}\n",
        "#@markdown ---\n"
      ],
      "execution_count": null,
      "outputs": []
    },
    {
      "cell_type": "markdown",
      "metadata": {
        "id": "dY4gPNdSB9qn"
      },
      "source": [
        "# Capitulo 3 - Python / Comandos básicos"
      ]
    },
    {
      "cell_type": "markdown",
      "metadata": {
        "id": "q1R9M8SxCTnH"
      },
      "source": [
        "## Execicios para introdução a Python"
      ]
    },
    {
      "cell_type": "markdown",
      "metadata": {
        "id": "bpoqAPkmHnGz"
      },
      "source": [
        "### 1 - O famoso \"Olá Mundo!\""
      ]
    },
    {
      "cell_type": "markdown",
      "metadata": {
        "id": "BlDLP02qCmBk"
      },
      "source": [
        "----\n",
        ">É simplesmente:\n",
        "```\n",
        "  print('Olá, Mundo...')\n",
        "```"
      ]
    },
    {
      "cell_type": "code",
      "metadata": {
        "id": "relGjxq2CRvh"
      },
      "source": [
        "print('Olá, Mundo...')"
      ],
      "execution_count": null,
      "outputs": []
    },
    {
      "cell_type": "markdown",
      "metadata": {
        "id": "0IiYEVyUDn80"
      },
      "source": [
        "\n",
        "> A linguagem Python é uma linguagem muito proxima ao pseudocodigo, tornando assim de facil compreensão.\n",
        "> Conseguimos fazer muito com pouco codigo, tornando o sistema leve e eficaz, a possibilidade de importar bibliotecas também é muito util deixando o trabalho pesado para a linguagem e o kernel do python. e nós ficamos com os simples algoritimos.\n",
        "\n",
        "-----"
      ]
    },
    {
      "cell_type": "markdown",
      "metadata": {
        "id": "q-YEpdGvHIwn"
      },
      "source": [
        "### 2 - Interação com o usuario"
      ]
    },
    {
      "cell_type": "markdown",
      "metadata": {
        "id": "WLDEvY0DFAR7"
      },
      "source": [
        "----\n",
        "\n",
        ">Podemos interagir com o usuario desta simples forma.\n",
        ">Por exemplo entrada de dados do teclado pelo parametro \"input()\":\n",
        "```\n",
        "  input('Digite seu nome: ')\n",
        "```\n",
        ">O Interessante é a possibilidade de criar uma mensagem de interassão com o usuario dentro do proprio \"input('Está menssagem será mostrada ao usuario!')\".\n",
        ">Podemos declarar uma interação com o usuario, informando o proximo passo a ser tomado por ele.\n"
      ]
    },
    {
      "cell_type": "code",
      "metadata": {
        "id": "aJs7SH98ExYf"
      },
      "source": [
        "input('Digite seu nome: ')"
      ],
      "execution_count": null,
      "outputs": []
    },
    {
      "cell_type": "markdown",
      "metadata": {
        "id": "5EGgSCmFIBhv"
      },
      "source": [
        "#### 2.1 - Variaveis"
      ]
    },
    {
      "cell_type": "markdown",
      "metadata": {
        "id": "XZA9-4WlIL6X"
      },
      "source": [
        "> Para quem tem conhecimento em outras linguagens sabe a necessidade de declarar as variaveis, em Python não existe está necessidade, tambem não existe a necessidade de tipar elas, por enxemplo:\n",
        "```\n",
        "  num : int = 0\n",
        "```\n",
        "> Esta declaração \"int\" não é necessario, mas pode ser utilizada por segurança.\n",
        "> Apenas digitamos as variaveis que precisamos no lugar necessario e pronto.\n",
        "> No decorrer deste documento vamos trabalhar muito com variaveis para conseguirmos entender completamente suas funcionalidades."
      ]
    },
    {
      "cell_type": "code",
      "metadata": {
        "id": "Ct_ErT9LJvEz"
      },
      "source": [
        "num : int = 1210\n",
        "print(num)"
      ],
      "execution_count": null,
      "outputs": []
    },
    {
      "cell_type": "markdown",
      "metadata": {
        "id": "j6-BosYjKXRU"
      },
      "source": [
        ">No exemplo acima declaramos a variavel como \"Inteiro\" mas se mudarmos o tipo no decorrer do projeto?"
      ]
    },
    {
      "cell_type": "code",
      "metadata": {
        "id": "P5ki6rrfJ7sk"
      },
      "source": [
        "num = \"Isto aqui é uma STRING!\\nA variavel \\\"num\\\" aceitou normalmente.\"\n",
        "print(num)"
      ],
      "execution_count": null,
      "outputs": []
    },
    {
      "cell_type": "markdown",
      "metadata": {
        "id": "xIHAMF7ZK56K"
      },
      "source": [
        ">Como vimos acima a variavel \"num\" está declarada como \"int\" mas não é por isso que não recebe uma String, isso ocorre de modo automático, é muito util mas pode ser um problema, no caso quando estamos interagindo com o usuario, pode ser nescessário o uso de bloqueios, mas isso veremos mais a frente."
      ]
    },
    {
      "cell_type": "markdown",
      "metadata": {
        "id": "_8iuoJJdOqD_"
      },
      "source": [
        ""
      ]
    }
  ]
}