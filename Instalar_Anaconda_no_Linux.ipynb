{
  "nbformat": 4,
  "nbformat_minor": 0,
  "metadata": {
    "colab": {
      "name": "Instalar Anaconda no Linux.ipynb",
      "provenance": [],
      "authorship_tag": "ABX9TyOLWWM5qujtzB7MlveiMlyS"
    },
    "kernelspec": {
      "name": "python3",
      "display_name": "Python 3"
    },
    "language_info": {
      "name": "python"
    }
  },
  "cells": [
    {
      "cell_type": "markdown",
      "source": [
        "# Como Instalar a Distribuição Anaconda Python no Ubuntu 20.04"
      ],
      "metadata": {
        "id": "kXUFDfvDr973"
      }
    },
    {
      "cell_type": "markdown",
      "source": [
        "## 1 - Introdução"
      ],
      "metadata": {
        "id": "tzyvErwrsCnh"
      }
    },
    {
      "cell_type": "markdown",
      "source": [
        "O Anaconda é um gerenciador de pacotes de código aberto, gerenciador de ambiente e distribuição das linguagens Python e R. Ele é usado geralmente para ciência de dados, aprendizagem de máquina, processamento de dados em grande escala, computação científica e análise preditiva.\n",
        "\n",
        "Oferecendo uma coleção de mais de 1000 pacotes de ciência de dados, o Anaconda está disponível tanto em versões gratuitas quanto em versões empresariais pagas. A distribuição Anaconda vem com o utilitário de linha de comando conda. Você pode aprender mais sobre o Anaconda e o conda, lendo a Documentação oficial do Anaconda.\n",
        "\n",
        "Este tutorial irá guiá-lo através da instalação da versão Python 3 do Anaconda em um servidor Ubuntu 20.04."
      ],
      "metadata": {
        "id": "hn2QaLTesHYN"
      }
    },
    {
      "cell_type": "markdown",
      "source": [
        "## 2 - Pré-requisitos"
      ],
      "metadata": {
        "id": "T5wqIouOsNgO"
      }
    },
    {
      "cell_type": "markdown",
      "source": [
        "Antes de iniciar este guia, você deve ter um non-root user com privilégios sudo configurado no seu servidor.\n",
        "\n",
        "Você pode conseguir este pré-requisito completando nosso tutorial configuração de servidor inicial do Ubuntu 20.04."
      ],
      "metadata": {
        "id": "LBYohNBhsRCz"
      }
    },
    {
      "cell_type": "markdown",
      "source": [
        "## 3 - Instalando o Anaconda"
      ],
      "metadata": {
        "id": "LeA_l9ZfsW79"
      }
    },
    {
      "cell_type": "markdown",
      "source": [
        "A melhor maneira de instalar o Anaconda é baixar o script bash de instalação do Anaconda, verificá-lo e, em seguida, executá-lo.\n",
        "\n",
        "Encontre a versão mais recente do Anaconda para Python 3 na página Anaconda Downloads. No momento em que este artigo foi escrito, a versão mais recente é a 2020.02, mas você deve usar a última versão estável se ela estiver disponível.\n",
        "\n",
        "Em seguida, mude para o diretório /tmp, em seu servidor. Este é um bom diretório para baixar itens temporários como o script bash do Anaconda, que não vamos mais precisar depois de executá-lo.\n",
        "\n",
        "~~~shell\n",
        "cd /tmp\n",
        "~~~\n",
        "\n",
        "\n",
        "Use o curl para baixar o link que você copiou do site do Anaconda. Vamos usar a saída para enviar para um arquivo chamado anaconda.sh para um uso mais rápido.\n",
        "\n",
        "~~~shell\n",
        "curl https://repo.anaconda.com/archive/Anaconda3-2021.11-Linux-x86_64.sh --output anaconda.sh\n",
        "~~~\n",
        "\n",
        "Agora, podemos verificar a integridade de dados do instalador com a verificação criptográfica de hash através do checksum SHA-256. Vamos usar o comando sha256sum junto com o nome do arquivo do script:\n",
        "\n",
        "~~~shell\n",
        "sha256sum anaconda.sh\n",
        "~~~\n",
        "\n",
        "Agora, podemos executar o script:\n",
        "\n",
        "~~~shell\n",
        "bash anaconda.sh\n",
        "~~~\n",
        "\n",
        "\n"
      ],
      "metadata": {
        "id": "HIDajDXQsZHC"
      }
    }
  ]
}