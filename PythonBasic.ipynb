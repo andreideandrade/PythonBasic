{
  "nbformat": 4,
  "nbformat_minor": 0,
  "metadata": {
    "colab": {
      "name": "PythonBasic.ipynb",
      "provenance": [],
      "collapsed_sections": [],
      "authorship_tag": "ABX9TyMTDMNJBLcmEBob9+k5G6gV",
      "include_colab_link": true
    },
    "kernelspec": {
      "name": "python3",
      "display_name": "Python 3"
    },
    "language_info": {
      "name": "python"
    }
  },
  "cells": [
    {
      "cell_type": "markdown",
      "metadata": {
        "id": "view-in-github",
        "colab_type": "text"
      },
      "source": [
        "<a href=\"https://colab.research.google.com/github/andreideandrade/PythonBasic/blob/master/PythonBasic.ipynb\" target=\"_parent\"><img src=\"https://colab.research.google.com/assets/colab-badge.svg\" alt=\"Open In Colab\"/></a>"
      ]
    },
    {
      "cell_type": "markdown",
      "metadata": {
        "id": "-m34hPMqpBai"
      },
      "source": [
        "#Incio dos estudos na linguagem Python\n",
        ">Estes estudos começaram do básico e de acordo com meu projeto vai até um sistema de RNA complexo.\n",
        "  \n",
        "***Segmentos***\n",
        "\n",
        "* Introdução ao Markdown\n",
        "* Introdução a linguagem Python\n",
        "* Conceitos de repetição\n",
        "* Conceitos de vetores e matrizes\n"
      ]
    }
  ]
}