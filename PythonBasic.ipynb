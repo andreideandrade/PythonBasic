{
  "nbformat": 4,
  "nbformat_minor": 0,
  "metadata": {
    "colab": {
      "name": "PythonBasic.ipynb",
      "provenance": [],
      "collapsed_sections": [],
      "authorship_tag": "ABX9TyNsD41qy2DEafMUgfaoyv1W",
      "include_colab_link": true
    },
    "kernelspec": {
      "name": "python3",
      "display_name": "Python 3"
    },
    "language_info": {
      "name": "python"
    }
  },
  "cells": [
    {
      "cell_type": "markdown",
      "metadata": {
        "id": "view-in-github",
        "colab_type": "text"
      },
      "source": [
        "<a href=\"https://colab.research.google.com/github/andreideandrade/PythonBasic/blob/master/PythonBasic.ipynb\" target=\"_parent\"><img src=\"https://colab.research.google.com/assets/colab-badge.svg\" alt=\"Open In Colab\"/></a>"
      ]
    },
    {
      "cell_type": "markdown",
      "metadata": {
        "id": "-m34hPMqpBai"
      },
      "source": [
        "#Incio dos estudos na linguagem Python\n",
        "\n"
      ]
    },
    {
      "cell_type": "markdown",
      "metadata": {
        "id": "IanDcbReuYNQ"
      },
      "source": [
        ">Estes estudos começaram do básico e de acordo com meu projeto vai até um sistema de RNA complexo.\n",
        "  \n",
        "***Segmentos***\n",
        "\n",
        "* Introdução ao Markdown\n",
        "* Introdução a linguagem Python\n",
        "* Conceitos de repetição\n",
        "* Conceitos de vetores e matrizes"
      ]
    },
    {
      "cell_type": "markdown",
      "metadata": {
        "id": "9IP7c1e0uhcN"
      },
      "source": [
        "## Indtrodução ao Markdown"
      ]
    },
    {
      "cell_type": "markdown",
      "metadata": {
        "id": "YJVck0Rsuomo"
      },
      "source": [
        "---\n",
        "\n",
        "## Referências\n",
        "\n",
        "Código Markdown                                        | Visão\n",
        "                                                   --- | ---\n",
        "`**Texto em negrito**`                                 | **Texto em negrito**\n",
        "`*Texto em itálico*` ou `_Texto em itálico_`           | *Texto em itálico*\n",
        "`` `Monospace` ``                                      | `Monospace`\n",
        "`~~Texto tachado~~`                                    | ~~Texto tachado~~\n",
        "`[Um link de internet](https://www.google.com)`        | [Um link de internet](https://www.google.com)\n",
        "`![Uma imagem](https://www.google.com/images/rss.png)` | ![Uma imagem](https://www.google.com/images/rss.png)\n",
        "\n",
        "---"
      ]
    },
    {
      "cell_type": "markdown",
      "metadata": {
        "id": "l0GqOxRCxsDW"
      },
      "source": [
        "\n",
        "## Titulos\n",
        "  A prioridade de cada titulo é referida por #.\n",
        "\n",
        "```markdown\n",
        "# Titulo 1\n",
        "## Titulo 2\n",
        "### Titulo 3\n",
        "#### Titulo 4\n",
        "##### Titulo 5\n",
        "###### Titulo 6\n",
        "\n",
        "```\n",
        "\n",
        "# Titulo 1\n",
        "## Titulo 2\n",
        "### Titulo 3\n",
        "#### Titulo 4\n",
        "##### Titulo 5\n",
        "###### Titulo 6\n",
        "\n",
        "\n",
        "\n",
        "The table of contents, available on the left side of Colab, is populated using at most one section title from each text cell.\n",
        "\n",
        "---\n",
        "\n",
        "## Identação\n",
        "\n",
        "```markdown\n",
        ">Primeira identação\n",
        "```\n",
        "\n",
        ">Primeira identação\n",
        "\n",
        "\n",
        "```markdown\n",
        ">>Segunda identação\n",
        "```\n",
        "\n",
        ">>Segunda identação\n",
        "\n",
        "---\n",
        "\n",
        "Bloco de códigos\n",
        "\n",
        "````\n",
        "```python\n",
        "print(\"Olá mundo!\")\n",
        "```\n",
        "````\n",
        "\n",
        "```python\n",
        "print(\"Olá mundo!\")\n",
        "```\n",
        "\n",
        "---\n",
        "\n",
        "Listas ordendas:\n",
        "```markdown\n",
        "1. Um\n",
        "1. Dois\n",
        "1. Três\n",
        "```\n",
        "1. Um\n",
        "1. Dois\n",
        "1. Três\n",
        "\n",
        "---\n",
        "\n",
        "Listas desordenadas ou de marcação:\n",
        "```markdown\n",
        "* Um\n",
        "* Dois\n",
        "* Três\n",
        "```\n",
        "* Um\n",
        "* Dois\n",
        "* Três\n",
        "\n",
        "---\n",
        "\n",
        "Equações:\n",
        "\n",
        "```markdown\n",
        "$y=x^2$\n",
        "\n",
        "$e^{i\\pi} + 1 = 0$\n",
        "\n",
        "$e^x=\\sum_{i=0}^\\infty \\frac{1}{i!}x^i$\n",
        "\n",
        "$\\frac{n!}{k!(n-k)!} = {n \\choose k}$\n",
        "\n",
        "$A_{m,n} =\n",
        " \\begin{pmatrix}\n",
        "  a_{1,1} & a_{1,2} & \\cdots & a_{1,n} \\\\\n",
        "  a_{2,1} & a_{2,2} & \\cdots & a_{2,n} \\\\\n",
        "  \\vdots  & \\vdots  & \\ddots & \\vdots  \\\\\n",
        "  a_{m,1} & a_{m,2} & \\cdots & a_{m,n}\n",
        " \\end{pmatrix}$\n",
        "```\n",
        "\n",
        "$y=x^2$\n",
        "\n",
        "$e^{i\\pi} + 1 = 0$\n",
        "\n",
        "$e^x=\\sum_{i=0}^\\infty \\frac{1}{i!}x^i$\n",
        "\n",
        "$\\frac{n!}{k!(n-k)!} = {n \\choose k}$\n",
        "\n",
        "$A_{m,n} =\n",
        " \\begin{pmatrix}\n",
        "  a_{1,1} & a_{1,2} & \\cdots & a_{1,n} \\\\\n",
        "  a_{2,1} & a_{2,2} & \\cdots & a_{2,n} \\\\\n",
        "  \\vdots  & \\vdots  & \\ddots & \\vdots  \\\\\n",
        "  a_{m,1} & a_{m,2} & \\cdots & a_{m,n}\n",
        " \\end{pmatrix}$\n",
        "\n",
        "\n",
        " ---\n",
        "\n",
        "Tabelas:\n",
        "```markdown\n",
        "Coluna 1  | Coluna 2 \n",
        "-------------------|------------------\n",
        "Limha 1, Coluna 1       | Linha 1, Coluna 2 \n",
        "Linha 2, Coluna 1       | Linha 2, Coluna 2 \n",
        "\n",
        "```\n",
        "\n",
        " Titulo da coluna 1  | Titulo da coluna 2 \n",
        " ---|---\n",
        "Linha 1, Coluna 1       | Linha 1, Coluna 2 \n",
        "Linha 2, Coluna 1       | Linha 2, Coluna 2 \n",
        "\n",
        "---\n",
        "\n",
        "Linha horizontal:\n",
        "```markdown\n",
        "---\n",
        "```\n",
        "\n",
        "---\n",
        "\n",
        "\n"
      ]
    }
  ]
}